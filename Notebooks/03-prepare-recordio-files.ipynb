{
 "cells": [
  {
   "cell_type": "markdown",
   "id": "b07a2562",
   "metadata": {},
   "source": [
    "# Create recordio formatted input files\n",
    "## These will be the input to our image classifier algorithm"
   ]
  },
  {
   "cell_type": "markdown",
   "id": "683e67c3",
   "metadata": {},
   "source": [
    "### Step 1: Create .lst files from directory Training_melgram - prefix .lst files with 'audio_melgram'"
   ]
  },
  {
   "cell_type": "code",
   "execution_count": 1,
   "id": "132d0573",
   "metadata": {},
   "outputs": [
    {
     "name": "stdout",
     "output_type": "stream",
     "text": [
      "background 0\r\n",
      "curlew 1\r\n",
      "whipbird 2\r\n"
     ]
    }
   ],
   "source": [
    "!python3 /home/ec2-user/anaconda3/envs/mxnet_p36/lib/python3.6/site-packages/mxnet/tools/im2rec.py --list --recursive --train-ratio 0.95 audio_melgram Training_melgram"
   ]
  },
  {
   "cell_type": "markdown",
   "id": "b725a43d",
   "metadata": {},
   "source": [
    "### Step 2: Resize shorter edge of images to 224 - take list of images and location from .lst files created in previous step. Output .rec files"
   ]
  },
  {
   "cell_type": "code",
   "execution_count": 2,
   "id": "6ce12b3a",
   "metadata": {},
   "outputs": [
    {
     "name": "stdout",
     "output_type": "stream",
     "text": [
      "Creating .rec file from /home/ec2-user/SageMaker/audio_melgram_val.lst in /home/ec2-user/SageMaker\n",
      "multiprocessing not available, fall back to single threaded encoding\n",
      "time: 0.027378082275390625  count: 0\n",
      "Creating .rec file from /home/ec2-user/SageMaker/audio_melgram_train.lst in /home/ec2-user/SageMaker\n",
      "multiprocessing not available, fall back to single threaded encoding\n",
      "time: 0.0030341148376464844  count: 0\n"
     ]
    }
   ],
   "source": [
    "!python3 /home/ec2-user/anaconda3/envs/mxnet_p36/lib/python3.6/site-packages/mxnet/tools/im2rec.py --resize 224 audio_melgram Training_melgram"
   ]
  },
  {
   "cell_type": "markdown",
   "id": "b27b6125",
   "metadata": {},
   "source": [
    "### Step 3: Create S3 bucket (if it does not already exist)"
   ]
  },
  {
   "cell_type": "code",
   "execution_count": 3,
   "id": "8a92ec81",
   "metadata": {},
   "outputs": [
    {
     "name": "stdout",
     "output_type": "stream",
     "text": [
      "/bin/sh: -c: line 0: syntax error near unexpected token `newline'\r\n",
      "/bin/sh: -c: line 0: `aws s3api create-bucket --bucket <bucket-name> --region <region-name> --create-bucket-configuration LocationConstraint=<region-name>'\r\n"
     ]
    }
   ],
   "source": [
    "!aws s3api create-bucket --bucket <bucket-name> --region <region-name> --create-bucket-configuration LocationConstraint=<region-name>"
   ]
  },
  {
   "cell_type": "markdown",
   "id": "937f3bef",
   "metadata": {},
   "source": [
    "### Step 4: Copy recordio files to S3 for SageMaker input"
   ]
  },
  {
   "cell_type": "code",
   "execution_count": 3,
   "id": "2c9191bc",
   "metadata": {},
   "outputs": [
    {
     "name": "stdout",
     "output_type": "stream",
     "text": [
      "upload: ./audio_melgram_train.rec to s3://516841648671-sagemaker-birdsong-classifier/melgram-data/train/audio_melgram_train.rec\n"
     ]
    }
   ],
   "source": [
    "!aws s3 cp audio_melgram_train.rec s3://516841648671-sagemaker-birdsong-classifier/melgram-data/train/"
   ]
  },
  {
   "cell_type": "code",
   "execution_count": 4,
   "id": "ef177d4b",
   "metadata": {},
   "outputs": [
    {
     "name": "stdout",
     "output_type": "stream",
     "text": [
      "upload: ./audio_melgram_val.rec to s3://516841648671-sagemaker-birdsong-classifier/melgram-data/validation/audio_melgram_val.rec\n"
     ]
    }
   ],
   "source": [
    "!aws s3 cp audio_melgram_val.rec s3://516841648671-sagemaker-birdsong-classifier/melgram-data/validation/"
   ]
  },
  {
   "cell_type": "markdown",
   "id": "4fd7eaeb",
   "metadata": {},
   "source": [
    "### Step 5: Find out how many records in training dataset (this in an input to SageMaker algorithm)"
   ]
  },
  {
   "cell_type": "code",
   "execution_count": 5,
   "id": "22dda3a5",
   "metadata": {},
   "outputs": [
    {
     "name": "stdout",
     "output_type": "stream",
     "text": [
      "687 audio_melgram_train.lst\r\n"
     ]
    }
   ],
   "source": [
    "!wc -l audio_melgram_train.lst"
   ]
  },
  {
   "cell_type": "code",
   "execution_count": null,
   "id": "57b4a4dd",
   "metadata": {},
   "outputs": [],
   "source": []
  }
 ],
 "metadata": {
  "kernelspec": {
   "display_name": "conda_mxnet_p36",
   "language": "python",
   "name": "conda_mxnet_p36"
  },
  "language_info": {
   "codemirror_mode": {
    "name": "ipython",
    "version": 3
   },
   "file_extension": ".py",
   "mimetype": "text/x-python",
   "name": "python",
   "nbconvert_exporter": "python",
   "pygments_lexer": "ipython3",
   "version": "3.6.13"
  }
 },
 "nbformat": 4,
 "nbformat_minor": 5
}
